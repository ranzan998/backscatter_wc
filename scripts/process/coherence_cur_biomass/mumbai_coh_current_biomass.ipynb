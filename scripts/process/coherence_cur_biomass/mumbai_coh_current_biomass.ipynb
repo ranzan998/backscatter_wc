{
 "cells": [
  {
   "cell_type": "code",
   "execution_count": 1,
   "id": "6e5c6bc0-e465-4fb1-aa20-2b64f2cadaa8",
   "metadata": {},
   "outputs": [],
   "source": [
    "import matplotlib.pyplot as plt\n",
    "import xarray as xr\n",
    "import numpy as np\n",
    "from pycwt import cwt,xwt,wct,wct_significance,wavelet,Morlet\n",
    "import matplotlib.dates as mdates\n",
    "import pandas as pd\n",
    "import os\n",
    "from scipy.signal import detrend\n"
   ]
  },
  {
   "cell_type": "code",
   "execution_count": 2,
   "id": "5226ba83-a50c-4b77-8ec7-3bede1933e7b",
   "metadata": {},
   "outputs": [],
   "source": [
    "# BIOMASS data"
   ]
  },
  {
   "cell_type": "code",
   "execution_count": 3,
   "id": "25fc8a2a-c330-4c57-8364-d8bc018c7928",
   "metadata": {},
   "outputs": [],
   "source": [
    "path_bm = \"/media/scilab/disk_ranjan/works/westcoast_adcp1/backscatternew/8process/lancos_filter/intraseasonal/\"\n",
    "files_bm = sorted([f for f in os.listdir(path_bm) if f.endswith(\".nc\")])\n",
    "ds_bm = xr.open_dataset(path_bm+files_bm[1])"
   ]
  },
  {
   "cell_type": "code",
   "execution_count": 4,
   "id": "81e8021a-b137-4c02-9647-e5943497c11c",
   "metadata": {},
   "outputs": [],
   "source": [
    "# current data\n",
    "path_cu = \"/media/scilab/disk_ranjan/works/westcoast_adcp1/backscatternew/8process/rotated_current/\"\n",
    "files_cu = sorted([f for f in os.listdir(path_cu) if f.endswith(\".nc\")])\n",
    "ds_cu = xr.open_dataset(path_cu+files_cu[1])"
   ]
  },
  {
   "cell_type": "markdown",
   "id": "014fc579-913d-44db-b14e-356168ddb493",
   "metadata": {},
   "source": [
    "## along shore"
   ]
  },
  {
   "cell_type": "markdown",
   "id": "febb7ba7-3f36-436b-b6bc-be0f15927b49",
   "metadata": {},
   "source": [
    "The idea is current drives the biomass, so try to find coherence of biomass wrt the current\n",
    "> 1. There is overlap between the filtered current data and the biomass in the annual band\n",
    "> 2. Try taking the depth from 30 m and downward , cause there is bad data in top"
   ]
  },
  {
   "cell_type": "code",
   "execution_count": 6,
   "id": "e5c13be5-956a-4078-8d70-1a3b63889c21",
   "metadata": {},
   "outputs": [],
   "source": [
    "bm1 = ds_cu.uraw[:,6].values"
   ]
  },
  {
   "cell_type": "code",
   "execution_count": 29,
   "id": "219035f4-ce59-43a0-936c-688f7b2b8bfa",
   "metadata": {},
   "outputs": [
    {
     "name": "stdout",
     "output_type": "stream",
     "text": [
      "Calculating wavelet coherence significance\n"
     ]
    },
    {
     "name": "stderr",
     "output_type": "stream",
     "text": [
      "100%|███████| 300/300 [00:31<00:00,  9.39it/s]\n"
     ]
    },
    {
     "name": "stdout",
     "output_type": "stream",
     "text": [
      "done for file,  0\n",
      "Calculating wavelet coherence significance\n"
     ]
    },
    {
     "name": "stderr",
     "output_type": "stream",
     "text": [
      "100%|███████| 300/300 [00:35<00:00,  8.54it/s]\n"
     ]
    },
    {
     "name": "stdout",
     "output_type": "stream",
     "text": [
      "done for file,  1\n",
      "Calculating wavelet coherence significance\n"
     ]
    },
    {
     "name": "stderr",
     "output_type": "stream",
     "text": [
      "100%|███████| 300/300 [00:32<00:00,  9.18it/s]\n"
     ]
    },
    {
     "name": "stdout",
     "output_type": "stream",
     "text": [
      "done for file,  2\n",
      "Calculating wavelet coherence significance\n"
     ]
    },
    {
     "name": "stderr",
     "output_type": "stream",
     "text": [
      "100%|███████| 300/300 [00:32<00:00,  9.23it/s]\n"
     ]
    },
    {
     "name": "stdout",
     "output_type": "stream",
     "text": [
      "done for file,  3\n",
      "Calculating wavelet coherence significance\n"
     ]
    },
    {
     "name": "stderr",
     "output_type": "stream",
     "text": [
      "100%|███████| 300/300 [00:32<00:00,  9.21it/s]\n"
     ]
    },
    {
     "name": "stdout",
     "output_type": "stream",
     "text": [
      "done for file,  4\n",
      "Calculating wavelet coherence significance\n"
     ]
    },
    {
     "name": "stderr",
     "output_type": "stream",
     "text": [
      "100%|███████| 300/300 [00:32<00:00,  9.22it/s]\n"
     ]
    },
    {
     "name": "stdout",
     "output_type": "stream",
     "text": [
      "done for file,  5\n",
      "Calculating wavelet coherence significance\n"
     ]
    },
    {
     "name": "stderr",
     "output_type": "stream",
     "text": [
      "100%|███████| 300/300 [00:32<00:00,  9.18it/s]\n"
     ]
    },
    {
     "name": "stdout",
     "output_type": "stream",
     "text": [
      "done for file,  6\n",
      "Calculating wavelet coherence significance\n"
     ]
    },
    {
     "name": "stderr",
     "output_type": "stream",
     "text": [
      "100%|███████| 300/300 [00:32<00:00,  9.26it/s]\n"
     ]
    },
    {
     "name": "stdout",
     "output_type": "stream",
     "text": [
      "done for file,  7\n",
      "Calculating wavelet coherence significance\n"
     ]
    },
    {
     "name": "stderr",
     "output_type": "stream",
     "text": [
      "100%|███████| 300/300 [00:32<00:00,  9.21it/s]\n"
     ]
    },
    {
     "name": "stdout",
     "output_type": "stream",
     "text": [
      "done for file,  8\n",
      "Calculating wavelet coherence significance\n"
     ]
    },
    {
     "name": "stderr",
     "output_type": "stream",
     "text": [
      "100%|███████| 300/300 [00:32<00:00,  9.19it/s]\n"
     ]
    },
    {
     "name": "stdout",
     "output_type": "stream",
     "text": [
      "done for file,  9\n",
      "Calculating wavelet coherence significance\n"
     ]
    },
    {
     "name": "stderr",
     "output_type": "stream",
     "text": [
      "100%|███████| 300/300 [00:32<00:00,  9.13it/s]\n"
     ]
    },
    {
     "name": "stdout",
     "output_type": "stream",
     "text": [
      "done for file,  10\n",
      "Calculating wavelet coherence significance\n"
     ]
    },
    {
     "name": "stderr",
     "output_type": "stream",
     "text": [
      "100%|███████| 300/300 [00:32<00:00,  9.19it/s]\n"
     ]
    },
    {
     "name": "stdout",
     "output_type": "stream",
     "text": [
      "done for file,  11\n",
      "Calculating wavelet coherence significance\n"
     ]
    },
    {
     "name": "stderr",
     "output_type": "stream",
     "text": [
      "100%|███████| 300/300 [00:32<00:00,  9.18it/s]\n"
     ]
    },
    {
     "name": "stdout",
     "output_type": "stream",
     "text": [
      "done for file,  12\n",
      "Calculating wavelet coherence significance\n"
     ]
    },
    {
     "name": "stderr",
     "output_type": "stream",
     "text": [
      "100%|███████| 300/300 [00:32<00:00,  9.27it/s]\n"
     ]
    },
    {
     "name": "stdout",
     "output_type": "stream",
     "text": [
      "done for file,  13\n",
      "Calculating wavelet coherence significance\n"
     ]
    },
    {
     "name": "stderr",
     "output_type": "stream",
     "text": [
      "100%|███████| 300/300 [00:32<00:00,  9.30it/s]\n"
     ]
    },
    {
     "name": "stdout",
     "output_type": "stream",
     "text": [
      "done for file,  14\n",
      "Calculating wavelet coherence significance\n"
     ]
    },
    {
     "name": "stderr",
     "output_type": "stream",
     "text": [
      "100%|███████| 300/300 [00:32<00:00,  9.27it/s]\n"
     ]
    },
    {
     "name": "stdout",
     "output_type": "stream",
     "text": [
      "done for file,  15\n",
      "Calculating wavelet coherence significance\n"
     ]
    },
    {
     "name": "stderr",
     "output_type": "stream",
     "text": [
      "100%|███████| 300/300 [00:32<00:00,  9.24it/s]\n"
     ]
    },
    {
     "name": "stdout",
     "output_type": "stream",
     "text": [
      "done for file,  16\n",
      "Calculating wavelet coherence significance\n"
     ]
    },
    {
     "name": "stderr",
     "output_type": "stream",
     "text": [
      "100%|███████| 300/300 [00:34<00:00,  8.79it/s]\n"
     ]
    },
    {
     "name": "stdout",
     "output_type": "stream",
     "text": [
      "done for file,  17\n",
      "Calculating wavelet coherence significance\n"
     ]
    },
    {
     "name": "stderr",
     "output_type": "stream",
     "text": [
      "100%|███████| 300/300 [00:34<00:00,  8.65it/s]\n"
     ]
    },
    {
     "name": "stdout",
     "output_type": "stream",
     "text": [
      "done for file,  18\n",
      "Calculating wavelet coherence significance\n"
     ]
    },
    {
     "name": "stderr",
     "output_type": "stream",
     "text": [
      "100%|███████| 300/300 [00:34<00:00,  8.77it/s]\n"
     ]
    },
    {
     "name": "stdout",
     "output_type": "stream",
     "text": [
      "done for file,  19\n",
      "Calculating wavelet coherence significance\n"
     ]
    },
    {
     "name": "stderr",
     "output_type": "stream",
     "text": [
      "100%|███████| 300/300 [00:34<00:00,  8.78it/s]\n"
     ]
    },
    {
     "name": "stdout",
     "output_type": "stream",
     "text": [
      "done for file,  20\n",
      "Calculating wavelet coherence significance\n"
     ]
    },
    {
     "name": "stderr",
     "output_type": "stream",
     "text": [
      "100%|███████| 300/300 [00:34<00:00,  8.78it/s]\n"
     ]
    },
    {
     "name": "stdout",
     "output_type": "stream",
     "text": [
      "done for file,  21\n",
      "Calculating wavelet coherence significance\n"
     ]
    },
    {
     "name": "stderr",
     "output_type": "stream",
     "text": [
      "100%|███████| 300/300 [00:33<00:00,  8.83it/s]\n"
     ]
    },
    {
     "name": "stdout",
     "output_type": "stream",
     "text": [
      "done for file,  22\n",
      "Calculating wavelet coherence significance\n"
     ]
    },
    {
     "name": "stderr",
     "output_type": "stream",
     "text": [
      "100%|███████| 300/300 [00:33<00:00,  8.87it/s]\n"
     ]
    },
    {
     "name": "stdout",
     "output_type": "stream",
     "text": [
      "done for file,  23\n",
      "Calculating wavelet coherence significance\n"
     ]
    },
    {
     "name": "stderr",
     "output_type": "stream",
     "text": [
      "100%|███████| 300/300 [00:34<00:00,  8.77it/s]\n"
     ]
    },
    {
     "name": "stdout",
     "output_type": "stream",
     "text": [
      "done for file,  24\n",
      "Calculating wavelet coherence significance\n"
     ]
    },
    {
     "name": "stderr",
     "output_type": "stream",
     "text": [
      "100%|███████| 300/300 [00:33<00:00,  8.83it/s]\n"
     ]
    },
    {
     "name": "stdout",
     "output_type": "stream",
     "text": [
      "done for file,  25\n"
     ]
    }
   ],
   "source": [
    "for i in range(5,31):\n",
    "    bm1 = ds_bm.BMD[53:2259,i,0,0].values\n",
    "    cu1 = ds_cu.along[38:2244,i].values\n",
    "    # detrend the data\n",
    "    bm_det1 = detrend(bm1) \n",
    "    cu_det1 = detrend(cu1)\n",
    "    coh1,pha1,coi1,freq1,sig951 = wct(bm_det1,cu_det1,dt=4,dj=1/8,J=45,sig=True,significance_level=0.95,wavelet='morlet',cache=False)\n",
    "\n",
    "    cross_power = np.abs(coh1)**2\n",
    "    cross_sig = np.ones([1, len(bm1)]) * sig951[:, None]\n",
    "    cross_sig = cross_power / cross_sig  # Power is significant where ratio > 1\n",
    "    cross_period = 1/freq1\n",
    "\n",
    "    coh1 = xr.DataArray(\n",
    "        data=coh1,\n",
    "        dims=[\"freq\",\"time\"],\n",
    "        coords={\"freq\":freq1,'time':ds_bm.AX006[38:2244].values})\n",
    "    sig1 = xr.DataArray(\n",
    "        data=cross_sig,\n",
    "        dims=[\"freq\",\"time\"],\n",
    "        coords={\"freq\":freq1,'time':ds_bm.AX006[38:2244].values})\n",
    "    \n",
    "    coi1 = xr.DataArray(\n",
    "        data=coi1,\n",
    "        dims=[\"time\"],\n",
    "        coords={'time':ds_bm.AX006[38:2244].values})\n",
    "    pha1 = xr.DataArray(\n",
    "        data=pha1,\n",
    "        dims=[\"freq\",\"time\"],\n",
    "        coords={\"freq\":freq1,'time':ds_bm.AX006[38:2244].values})\n",
    "\n",
    "    dsnew = xr.Dataset({\n",
    "        'coh1': coh1,\n",
    "        'sig1': sig1,\n",
    "        'pha1': pha1,\n",
    "        'coi1': coi1,\n",
    "    })\n",
    "#    dsnew.to_netcdf(\"/media/scilab/disk_ranjan/works/westcoast_adcp1/backscatternew/8process/coherence_cur_biomass/2mumbai/along/2mumabi_dep_\"+str(10+i)+\"_\"+str(i*4)+\"m.nc\")\n",
    "    dsnew.to_netcdf(\"/media/scilab/disk_ranjan/works/westcoast_adcp1/backscatternew/8process/coherence_cur_biomass/2mumbai/along/lagged_15days/2mumabi_dep_\"+str(10+i)+\"_\"+str(i*4)+\"m.nc\")\n",
    "     \n",
    "    print(\"done for file, \",i-5)\n"
   ]
  },
  {
   "cell_type": "code",
   "execution_count": 32,
   "id": "d5fd9fec-7cc0-4dcb-aae1-1f39434335ec",
   "metadata": {},
   "outputs": [
    {
     "name": "stdout",
     "output_type": "stream",
     "text": [
      "Calculating wavelet coherence significance\n"
     ]
    },
    {
     "name": "stderr",
     "output_type": "stream",
     "text": [
      "100%|███████| 300/300 [00:32<00:00,  9.27it/s]\n"
     ]
    },
    {
     "name": "stdout",
     "output_type": "stream",
     "text": [
      "done for file,  0\n",
      "Calculating wavelet coherence significance\n"
     ]
    },
    {
     "name": "stderr",
     "output_type": "stream",
     "text": [
      "100%|███████| 300/300 [00:32<00:00,  9.24it/s]\n"
     ]
    },
    {
     "name": "stdout",
     "output_type": "stream",
     "text": [
      "done for file,  1\n",
      "Calculating wavelet coherence significance\n"
     ]
    },
    {
     "name": "stderr",
     "output_type": "stream",
     "text": [
      "100%|███████| 300/300 [00:32<00:00,  9.34it/s]\n"
     ]
    },
    {
     "name": "stdout",
     "output_type": "stream",
     "text": [
      "done for file,  2\n",
      "Calculating wavelet coherence significance\n"
     ]
    },
    {
     "name": "stderr",
     "output_type": "stream",
     "text": [
      "100%|███████| 300/300 [00:32<00:00,  9.24it/s]\n"
     ]
    },
    {
     "name": "stdout",
     "output_type": "stream",
     "text": [
      "done for file,  3\n",
      "Calculating wavelet coherence significance\n"
     ]
    },
    {
     "name": "stderr",
     "output_type": "stream",
     "text": [
      "100%|███████| 300/300 [00:32<00:00,  9.27it/s]\n"
     ]
    },
    {
     "name": "stdout",
     "output_type": "stream",
     "text": [
      "done for file,  4\n",
      "Calculating wavelet coherence significance\n"
     ]
    },
    {
     "name": "stderr",
     "output_type": "stream",
     "text": [
      "100%|███████| 300/300 [00:32<00:00,  9.29it/s]\n"
     ]
    },
    {
     "name": "stdout",
     "output_type": "stream",
     "text": [
      "done for file,  5\n",
      "Calculating wavelet coherence significance\n"
     ]
    },
    {
     "name": "stderr",
     "output_type": "stream",
     "text": [
      "100%|███████| 300/300 [00:32<00:00,  9.28it/s]\n"
     ]
    },
    {
     "name": "stdout",
     "output_type": "stream",
     "text": [
      "done for file,  6\n",
      "Calculating wavelet coherence significance\n"
     ]
    },
    {
     "name": "stderr",
     "output_type": "stream",
     "text": [
      "100%|███████| 300/300 [00:32<00:00,  9.26it/s]\n"
     ]
    },
    {
     "name": "stdout",
     "output_type": "stream",
     "text": [
      "done for file,  7\n",
      "Calculating wavelet coherence significance\n"
     ]
    },
    {
     "name": "stderr",
     "output_type": "stream",
     "text": [
      "100%|███████| 300/300 [00:32<00:00,  9.24it/s]\n"
     ]
    },
    {
     "name": "stdout",
     "output_type": "stream",
     "text": [
      "done for file,  8\n",
      "Calculating wavelet coherence significance\n"
     ]
    },
    {
     "name": "stderr",
     "output_type": "stream",
     "text": [
      "100%|███████| 300/300 [00:32<00:00,  9.28it/s]\n"
     ]
    },
    {
     "name": "stdout",
     "output_type": "stream",
     "text": [
      "done for file,  9\n",
      "Calculating wavelet coherence significance\n"
     ]
    },
    {
     "name": "stderr",
     "output_type": "stream",
     "text": [
      "100%|███████| 300/300 [00:32<00:00,  9.19it/s]\n"
     ]
    },
    {
     "name": "stdout",
     "output_type": "stream",
     "text": [
      "done for file,  10\n",
      "Calculating wavelet coherence significance\n"
     ]
    },
    {
     "name": "stderr",
     "output_type": "stream",
     "text": [
      "100%|███████| 300/300 [00:32<00:00,  9.18it/s]\n"
     ]
    },
    {
     "name": "stdout",
     "output_type": "stream",
     "text": [
      "done for file,  11\n",
      "Calculating wavelet coherence significance\n"
     ]
    },
    {
     "name": "stderr",
     "output_type": "stream",
     "text": [
      "100%|███████| 300/300 [00:32<00:00,  9.13it/s]\n"
     ]
    },
    {
     "name": "stdout",
     "output_type": "stream",
     "text": [
      "done for file,  12\n",
      "Calculating wavelet coherence significance\n"
     ]
    },
    {
     "name": "stderr",
     "output_type": "stream",
     "text": [
      "100%|███████| 300/300 [00:32<00:00,  9.27it/s]\n"
     ]
    },
    {
     "name": "stdout",
     "output_type": "stream",
     "text": [
      "done for file,  13\n",
      "Calculating wavelet coherence significance\n"
     ]
    },
    {
     "name": "stderr",
     "output_type": "stream",
     "text": [
      "100%|███████| 300/300 [00:33<00:00,  8.84it/s]\n"
     ]
    },
    {
     "name": "stdout",
     "output_type": "stream",
     "text": [
      "done for file,  14\n",
      "Calculating wavelet coherence significance\n"
     ]
    },
    {
     "name": "stderr",
     "output_type": "stream",
     "text": [
      "100%|███████| 300/300 [00:32<00:00,  9.10it/s]\n"
     ]
    },
    {
     "name": "stdout",
     "output_type": "stream",
     "text": [
      "done for file,  15\n",
      "Calculating wavelet coherence significance\n"
     ]
    },
    {
     "name": "stderr",
     "output_type": "stream",
     "text": [
      "100%|███████| 300/300 [00:32<00:00,  9.15it/s]\n"
     ]
    },
    {
     "name": "stdout",
     "output_type": "stream",
     "text": [
      "done for file,  16\n",
      "Calculating wavelet coherence significance\n"
     ]
    },
    {
     "name": "stderr",
     "output_type": "stream",
     "text": [
      "100%|███████| 300/300 [00:32<00:00,  9.16it/s]\n"
     ]
    },
    {
     "name": "stdout",
     "output_type": "stream",
     "text": [
      "done for file,  17\n",
      "Calculating wavelet coherence significance\n"
     ]
    },
    {
     "name": "stderr",
     "output_type": "stream",
     "text": [
      "100%|███████| 300/300 [00:32<00:00,  9.22it/s]\n"
     ]
    },
    {
     "name": "stdout",
     "output_type": "stream",
     "text": [
      "done for file,  18\n",
      "Calculating wavelet coherence significance\n"
     ]
    },
    {
     "name": "stderr",
     "output_type": "stream",
     "text": [
      "100%|███████| 300/300 [00:32<00:00,  9.17it/s]\n"
     ]
    },
    {
     "name": "stdout",
     "output_type": "stream",
     "text": [
      "done for file,  19\n",
      "Calculating wavelet coherence significance\n"
     ]
    },
    {
     "name": "stderr",
     "output_type": "stream",
     "text": [
      "100%|███████| 300/300 [00:32<00:00,  9.19it/s]\n"
     ]
    },
    {
     "name": "stdout",
     "output_type": "stream",
     "text": [
      "done for file,  20\n",
      "Calculating wavelet coherence significance\n"
     ]
    },
    {
     "name": "stderr",
     "output_type": "stream",
     "text": [
      "100%|███████| 300/300 [00:32<00:00,  9.18it/s]\n"
     ]
    },
    {
     "name": "stdout",
     "output_type": "stream",
     "text": [
      "done for file,  21\n",
      "Calculating wavelet coherence significance\n"
     ]
    },
    {
     "name": "stderr",
     "output_type": "stream",
     "text": [
      "100%|███████| 300/300 [00:32<00:00,  9.17it/s]\n"
     ]
    },
    {
     "name": "stdout",
     "output_type": "stream",
     "text": [
      "done for file,  22\n",
      "Calculating wavelet coherence significance\n"
     ]
    },
    {
     "name": "stderr",
     "output_type": "stream",
     "text": [
      "100%|███████| 300/300 [00:32<00:00,  9.17it/s]\n"
     ]
    },
    {
     "name": "stdout",
     "output_type": "stream",
     "text": [
      "done for file,  23\n",
      "Calculating wavelet coherence significance\n"
     ]
    },
    {
     "name": "stderr",
     "output_type": "stream",
     "text": [
      "100%|███████| 300/300 [00:32<00:00,  9.21it/s]\n"
     ]
    },
    {
     "name": "stdout",
     "output_type": "stream",
     "text": [
      "done for file,  24\n",
      "Calculating wavelet coherence significance\n"
     ]
    },
    {
     "name": "stderr",
     "output_type": "stream",
     "text": [
      "100%|███████| 300/300 [00:32<00:00,  9.19it/s]\n"
     ]
    },
    {
     "name": "stdout",
     "output_type": "stream",
     "text": [
      "done for file,  25\n"
     ]
    }
   ],
   "source": [
    "for i in range(5,31):\n",
    "    bm1 = ds_bm.BMD[63:2259,i,0,0].values\n",
    "    cu1 = ds_cu.along[38:2234,i].values\n",
    "    # detrend the data\n",
    "    bm_det1 = detrend(bm1) \n",
    "    cu_det1 = detrend(cu1)\n",
    "    coh1,pha1,coi1,freq1,sig951 = wct(bm_det1,cu_det1,dt=4,dj=1/8,J=45,sig=True,significance_level=0.95,wavelet='morlet',cache=False)\n",
    "\n",
    "    cross_power = np.abs(coh1)**2\n",
    "    cross_sig = np.ones([1, len(bm1)]) * sig951[:, None]\n",
    "    cross_sig = cross_power / cross_sig  # Power is significant where ratio > 1\n",
    "    cross_period = 1/freq1\n",
    "\n",
    "    coh1 = xr.DataArray(\n",
    "        data=coh1,\n",
    "        dims=[\"freq\",\"time\"],\n",
    "        coords={\"freq\":freq1,'time':ds_bm.AX006[38:2234].values})\n",
    "    sig1 = xr.DataArray(\n",
    "        data=cross_sig,\n",
    "        dims=[\"freq\",\"time\"],\n",
    "        coords={\"freq\":freq1,'time':ds_bm.AX006[38:2234].values})\n",
    "    \n",
    "    coi1 = xr.DataArray(\n",
    "        data=coi1,\n",
    "        dims=[\"time\"],\n",
    "        coords={'time':ds_bm.AX006[38:2234].values})\n",
    "    pha1 = xr.DataArray(\n",
    "        data=pha1,\n",
    "        dims=[\"freq\",\"time\"],\n",
    "        coords={\"freq\":freq1,'time':ds_bm.AX006[38:2234].values})\n",
    "\n",
    "    dsnew = xr.Dataset({\n",
    "        'coh1': coh1,\n",
    "        'sig1': sig1,\n",
    "        'pha1': pha1,\n",
    "        'coi1': coi1,\n",
    "    })\n",
    "#    dsnew.to_netcdf(\"/media/scilab/disk_ranjan/works/westcoast_adcp1/backscatternew/8process/coherence_cur_biomass/2mumbai/along/2mumabi_dep_\"+str(10+i)+\"_\"+str(i*4)+\"m.nc\")\n",
    "    dsnew.to_netcdf(\"/media/scilab/disk_ranjan/works/westcoast_adcp1/backscatternew/8process/coherence_cur_biomass/2mumbai/along/lagged_25days/2mumabi_dep_\"+str(10+i)+\"_\"+str(i*4)+\"m.nc\")\n",
    "     \n",
    "    print(\"done for file, \",i-5)\n"
   ]
  },
  {
   "cell_type": "markdown",
   "id": "70feff26-9d53-4dff-8c22-52ba7518d682",
   "metadata": {},
   "source": [
    "# cross shore"
   ]
  },
  {
   "cell_type": "code",
   "execution_count": 30,
   "id": "8fab215d-0ac8-493e-a969-d4f5b1bfb6e9",
   "metadata": {},
   "outputs": [
    {
     "name": "stdout",
     "output_type": "stream",
     "text": [
      "Calculating wavelet coherence significance\n"
     ]
    },
    {
     "name": "stderr",
     "output_type": "stream",
     "text": [
      "100%|███████| 300/300 [00:33<00:00,  8.84it/s]\n"
     ]
    },
    {
     "name": "stdout",
     "output_type": "stream",
     "text": [
      "done for file,  0\n",
      "Calculating wavelet coherence significance\n"
     ]
    },
    {
     "name": "stderr",
     "output_type": "stream",
     "text": [
      "100%|███████| 300/300 [00:33<00:00,  8.88it/s]\n"
     ]
    },
    {
     "name": "stdout",
     "output_type": "stream",
     "text": [
      "done for file,  1\n",
      "Calculating wavelet coherence significance\n"
     ]
    },
    {
     "name": "stderr",
     "output_type": "stream",
     "text": [
      "100%|███████| 300/300 [00:33<00:00,  8.91it/s]\n"
     ]
    },
    {
     "name": "stdout",
     "output_type": "stream",
     "text": [
      "done for file,  2\n",
      "Calculating wavelet coherence significance\n"
     ]
    },
    {
     "name": "stderr",
     "output_type": "stream",
     "text": [
      "100%|███████| 300/300 [00:33<00:00,  8.94it/s]\n"
     ]
    },
    {
     "name": "stdout",
     "output_type": "stream",
     "text": [
      "done for file,  3\n",
      "Calculating wavelet coherence significance\n"
     ]
    },
    {
     "name": "stderr",
     "output_type": "stream",
     "text": [
      "100%|███████| 300/300 [00:33<00:00,  8.89it/s]\n"
     ]
    },
    {
     "name": "stdout",
     "output_type": "stream",
     "text": [
      "done for file,  4\n",
      "Calculating wavelet coherence significance\n"
     ]
    },
    {
     "name": "stderr",
     "output_type": "stream",
     "text": [
      "100%|███████| 300/300 [00:33<00:00,  8.90it/s]\n"
     ]
    },
    {
     "name": "stdout",
     "output_type": "stream",
     "text": [
      "done for file,  5\n",
      "Calculating wavelet coherence significance\n"
     ]
    },
    {
     "name": "stderr",
     "output_type": "stream",
     "text": [
      "100%|███████| 300/300 [00:33<00:00,  8.87it/s]\n"
     ]
    },
    {
     "name": "stdout",
     "output_type": "stream",
     "text": [
      "done for file,  6\n",
      "Calculating wavelet coherence significance\n"
     ]
    },
    {
     "name": "stderr",
     "output_type": "stream",
     "text": [
      "100%|███████| 300/300 [00:33<00:00,  8.90it/s]\n"
     ]
    },
    {
     "name": "stdout",
     "output_type": "stream",
     "text": [
      "done for file,  7\n",
      "Calculating wavelet coherence significance\n"
     ]
    },
    {
     "name": "stderr",
     "output_type": "stream",
     "text": [
      "100%|███████| 300/300 [00:33<00:00,  8.92it/s]\n"
     ]
    },
    {
     "name": "stdout",
     "output_type": "stream",
     "text": [
      "done for file,  8\n",
      "Calculating wavelet coherence significance\n"
     ]
    },
    {
     "name": "stderr",
     "output_type": "stream",
     "text": [
      "100%|███████| 300/300 [00:33<00:00,  8.86it/s]\n"
     ]
    },
    {
     "name": "stdout",
     "output_type": "stream",
     "text": [
      "done for file,  9\n",
      "Calculating wavelet coherence significance\n"
     ]
    },
    {
     "name": "stderr",
     "output_type": "stream",
     "text": [
      "100%|███████| 300/300 [00:35<00:00,  8.44it/s]\n"
     ]
    },
    {
     "name": "stdout",
     "output_type": "stream",
     "text": [
      "done for file,  10\n",
      "Calculating wavelet coherence significance\n"
     ]
    },
    {
     "name": "stderr",
     "output_type": "stream",
     "text": [
      "100%|███████| 300/300 [00:34<00:00,  8.81it/s]\n"
     ]
    },
    {
     "name": "stdout",
     "output_type": "stream",
     "text": [
      "done for file,  11\n",
      "Calculating wavelet coherence significance\n"
     ]
    },
    {
     "name": "stderr",
     "output_type": "stream",
     "text": [
      "100%|███████| 300/300 [00:35<00:00,  8.40it/s]\n"
     ]
    },
    {
     "name": "stdout",
     "output_type": "stream",
     "text": [
      "done for file,  12\n",
      "Calculating wavelet coherence significance\n"
     ]
    },
    {
     "name": "stderr",
     "output_type": "stream",
     "text": [
      "100%|███████| 300/300 [00:36<00:00,  8.27it/s]\n"
     ]
    },
    {
     "name": "stdout",
     "output_type": "stream",
     "text": [
      "done for file,  13\n",
      "Calculating wavelet coherence significance\n"
     ]
    },
    {
     "name": "stderr",
     "output_type": "stream",
     "text": [
      "100%|███████| 300/300 [00:36<00:00,  8.26it/s]\n"
     ]
    },
    {
     "name": "stdout",
     "output_type": "stream",
     "text": [
      "done for file,  14\n",
      "Calculating wavelet coherence significance\n"
     ]
    },
    {
     "name": "stderr",
     "output_type": "stream",
     "text": [
      "100%|███████| 300/300 [00:36<00:00,  8.32it/s]\n"
     ]
    },
    {
     "name": "stdout",
     "output_type": "stream",
     "text": [
      "done for file,  15\n",
      "Calculating wavelet coherence significance\n"
     ]
    },
    {
     "name": "stderr",
     "output_type": "stream",
     "text": [
      "100%|███████| 300/300 [00:36<00:00,  8.26it/s]\n"
     ]
    },
    {
     "name": "stdout",
     "output_type": "stream",
     "text": [
      "done for file,  16\n",
      "Calculating wavelet coherence significance\n"
     ]
    },
    {
     "name": "stderr",
     "output_type": "stream",
     "text": [
      "100%|███████| 300/300 [00:33<00:00,  8.83it/s]\n"
     ]
    },
    {
     "name": "stdout",
     "output_type": "stream",
     "text": [
      "done for file,  17\n",
      "Calculating wavelet coherence significance\n"
     ]
    },
    {
     "name": "stderr",
     "output_type": "stream",
     "text": [
      "100%|███████| 300/300 [00:33<00:00,  8.84it/s]\n"
     ]
    },
    {
     "name": "stdout",
     "output_type": "stream",
     "text": [
      "done for file,  18\n",
      "Calculating wavelet coherence significance\n"
     ]
    },
    {
     "name": "stderr",
     "output_type": "stream",
     "text": [
      "100%|███████| 300/300 [00:34<00:00,  8.81it/s]\n"
     ]
    },
    {
     "name": "stdout",
     "output_type": "stream",
     "text": [
      "done for file,  19\n",
      "Calculating wavelet coherence significance\n"
     ]
    },
    {
     "name": "stderr",
     "output_type": "stream",
     "text": [
      "100%|███████| 300/300 [00:34<00:00,  8.80it/s]\n"
     ]
    },
    {
     "name": "stdout",
     "output_type": "stream",
     "text": [
      "done for file,  20\n",
      "Calculating wavelet coherence significance\n"
     ]
    },
    {
     "name": "stderr",
     "output_type": "stream",
     "text": [
      "100%|███████| 300/300 [00:34<00:00,  8.80it/s]\n"
     ]
    },
    {
     "name": "stdout",
     "output_type": "stream",
     "text": [
      "done for file,  21\n",
      "Calculating wavelet coherence significance\n"
     ]
    },
    {
     "name": "stderr",
     "output_type": "stream",
     "text": [
      "100%|███████| 300/300 [00:33<00:00,  8.87it/s]\n"
     ]
    },
    {
     "name": "stdout",
     "output_type": "stream",
     "text": [
      "done for file,  22\n",
      "Calculating wavelet coherence significance\n"
     ]
    },
    {
     "name": "stderr",
     "output_type": "stream",
     "text": [
      "100%|███████| 300/300 [00:33<00:00,  8.82it/s]\n"
     ]
    },
    {
     "name": "stdout",
     "output_type": "stream",
     "text": [
      "done for file,  23\n",
      "Calculating wavelet coherence significance\n"
     ]
    },
    {
     "name": "stderr",
     "output_type": "stream",
     "text": [
      "100%|███████| 300/300 [00:33<00:00,  8.86it/s]\n"
     ]
    },
    {
     "name": "stdout",
     "output_type": "stream",
     "text": [
      "done for file,  24\n",
      "Calculating wavelet coherence significance\n"
     ]
    },
    {
     "name": "stderr",
     "output_type": "stream",
     "text": [
      "100%|███████| 300/300 [00:33<00:00,  8.84it/s]\n"
     ]
    },
    {
     "name": "stdout",
     "output_type": "stream",
     "text": [
      "done for file,  25\n"
     ]
    }
   ],
   "source": [
    "for i in range(5,31):\n",
    "    bm1 = ds_bm.BMD[53:2259,i,0,0].values\n",
    "    cu1 = ds_cu.cross[38:2244,i].values\n",
    "    # detrend the data\n",
    "    bm_det1 = detrend(bm1) \n",
    "    cu_det1 = detrend(cu1)\n",
    "    coh1,pha1,coi1,freq1,sig951 = wct(bm_det1,cu_det1,dt=4,dj=1/8,J=45,sig=True,significance_level=0.95,wavelet='morlet',cache=False)\n",
    "\n",
    "    cross_power = np.abs(coh1)**2\n",
    "    cross_sig = np.ones([1, len(bm1)]) * sig951[:, None]\n",
    "    cross_sig = cross_power / cross_sig  # Power is significant where ratio > 1\n",
    "    cross_period = 1/freq1\n",
    "\n",
    "    coh1 = xr.DataArray(\n",
    "        data=coh1,\n",
    "        dims=[\"freq\",\"time\"],\n",
    "        coords={\"freq\":freq1,'time':ds_bm.AX006[38:2244].values})\n",
    "    sig1 = xr.DataArray(\n",
    "        data=cross_sig,\n",
    "        dims=[\"freq\",\"time\"],\n",
    "        coords={\"freq\":freq1,'time':ds_bm.AX006[38:2244].values})\n",
    "    \n",
    "    coi1 = xr.DataArray(\n",
    "        data=coi1,\n",
    "        dims=[\"time\"],\n",
    "        coords={'time':ds_bm.AX006[38:2244].values})\n",
    "    pha1 = xr.DataArray(\n",
    "        data=pha1,\n",
    "        dims=[\"freq\",\"time\"],\n",
    "        coords={\"freq\":freq1,'time':ds_bm.AX006[38:2244].values})\n",
    "\n",
    "    dsnew = xr.Dataset({\n",
    "        'coh1': coh1,\n",
    "        'sig1': sig1,\n",
    "        'pha1': pha1,\n",
    "        'coi1': coi1,\n",
    "    })\n",
    "#    dsnew.to_netcdf(\"/media/scilab/disk_ranjan/works/westcoast_adcp1/backscatternew/8process/coherence_cur_biomass/2mumbai/cross/2mumabi_dep_\"+str(10+i)+\"_\"+str(i*4)+\"m.nc\")\n",
    "    dsnew.to_netcdf(\"/media/scilab/disk_ranjan/works/westcoast_adcp1/backscatternew/8process/coherence_cur_biomass/2mumbai/cross/lagged_15days/2mumabi_dep_\"+str(10+i)+\"_\"+str(i*4)+\"m.nc\")\n",
    "\n",
    "    print(\"done for file, \",i-5)\n"
   ]
  },
  {
   "cell_type": "code",
   "execution_count": 31,
   "id": "eab32b06-20c0-4d26-a3b6-eae5a458c4c4",
   "metadata": {},
   "outputs": [
    {
     "name": "stdout",
     "output_type": "stream",
     "text": [
      "Calculating wavelet coherence significance\n"
     ]
    },
    {
     "name": "stderr",
     "output_type": "stream",
     "text": [
      "100%|███████| 300/300 [00:33<00:00,  8.86it/s]\n"
     ]
    },
    {
     "name": "stdout",
     "output_type": "stream",
     "text": [
      "done for file,  0\n",
      "Calculating wavelet coherence significance\n"
     ]
    },
    {
     "name": "stderr",
     "output_type": "stream",
     "text": [
      "100%|███████| 300/300 [00:33<00:00,  8.97it/s]\n"
     ]
    },
    {
     "name": "stdout",
     "output_type": "stream",
     "text": [
      "done for file,  1\n",
      "Calculating wavelet coherence significance\n"
     ]
    },
    {
     "name": "stderr",
     "output_type": "stream",
     "text": [
      "100%|███████| 300/300 [00:33<00:00,  8.95it/s]\n"
     ]
    },
    {
     "name": "stdout",
     "output_type": "stream",
     "text": [
      "done for file,  2\n",
      "Calculating wavelet coherence significance\n"
     ]
    },
    {
     "name": "stderr",
     "output_type": "stream",
     "text": [
      "100%|███████| 300/300 [00:33<00:00,  8.94it/s]\n"
     ]
    },
    {
     "name": "stdout",
     "output_type": "stream",
     "text": [
      "done for file,  3\n",
      "Calculating wavelet coherence significance\n"
     ]
    },
    {
     "name": "stderr",
     "output_type": "stream",
     "text": [
      "100%|███████| 300/300 [00:34<00:00,  8.77it/s]\n"
     ]
    },
    {
     "name": "stdout",
     "output_type": "stream",
     "text": [
      "done for file,  4\n",
      "Calculating wavelet coherence significance\n"
     ]
    },
    {
     "name": "stderr",
     "output_type": "stream",
     "text": [
      "100%|███████| 300/300 [00:33<00:00,  8.95it/s]\n"
     ]
    },
    {
     "name": "stdout",
     "output_type": "stream",
     "text": [
      "done for file,  5\n",
      "Calculating wavelet coherence significance\n"
     ]
    },
    {
     "name": "stderr",
     "output_type": "stream",
     "text": [
      "100%|███████| 300/300 [00:33<00:00,  8.90it/s]\n"
     ]
    },
    {
     "name": "stdout",
     "output_type": "stream",
     "text": [
      "done for file,  6\n",
      "Calculating wavelet coherence significance\n"
     ]
    },
    {
     "name": "stderr",
     "output_type": "stream",
     "text": [
      "100%|███████| 300/300 [00:33<00:00,  8.93it/s]\n"
     ]
    },
    {
     "name": "stdout",
     "output_type": "stream",
     "text": [
      "done for file,  7\n",
      "Calculating wavelet coherence significance\n"
     ]
    },
    {
     "name": "stderr",
     "output_type": "stream",
     "text": [
      "100%|███████| 300/300 [00:33<00:00,  8.99it/s]\n"
     ]
    },
    {
     "name": "stdout",
     "output_type": "stream",
     "text": [
      "done for file,  8\n",
      "Calculating wavelet coherence significance\n"
     ]
    },
    {
     "name": "stderr",
     "output_type": "stream",
     "text": [
      "100%|███████| 300/300 [00:33<00:00,  8.90it/s]\n"
     ]
    },
    {
     "name": "stdout",
     "output_type": "stream",
     "text": [
      "done for file,  9\n",
      "Calculating wavelet coherence significance\n"
     ]
    },
    {
     "name": "stderr",
     "output_type": "stream",
     "text": [
      "100%|███████| 300/300 [00:33<00:00,  8.98it/s]\n"
     ]
    },
    {
     "name": "stdout",
     "output_type": "stream",
     "text": [
      "done for file,  10\n",
      "Calculating wavelet coherence significance\n"
     ]
    },
    {
     "name": "stderr",
     "output_type": "stream",
     "text": [
      "100%|███████| 300/300 [00:33<00:00,  8.96it/s]\n"
     ]
    },
    {
     "name": "stdout",
     "output_type": "stream",
     "text": [
      "done for file,  11\n",
      "Calculating wavelet coherence significance\n"
     ]
    },
    {
     "name": "stderr",
     "output_type": "stream",
     "text": [
      "100%|███████| 300/300 [00:33<00:00,  8.98it/s]\n"
     ]
    },
    {
     "name": "stdout",
     "output_type": "stream",
     "text": [
      "done for file,  12\n",
      "Calculating wavelet coherence significance\n"
     ]
    },
    {
     "name": "stderr",
     "output_type": "stream",
     "text": [
      "100%|███████| 300/300 [00:33<00:00,  8.93it/s]\n"
     ]
    },
    {
     "name": "stdout",
     "output_type": "stream",
     "text": [
      "done for file,  13\n",
      "Calculating wavelet coherence significance\n"
     ]
    },
    {
     "name": "stderr",
     "output_type": "stream",
     "text": [
      "100%|███████| 300/300 [00:33<00:00,  8.98it/s]\n"
     ]
    },
    {
     "name": "stdout",
     "output_type": "stream",
     "text": [
      "done for file,  14\n",
      "Calculating wavelet coherence significance\n"
     ]
    },
    {
     "name": "stderr",
     "output_type": "stream",
     "text": [
      "100%|███████| 300/300 [00:33<00:00,  8.96it/s]\n"
     ]
    },
    {
     "name": "stdout",
     "output_type": "stream",
     "text": [
      "done for file,  15\n",
      "Calculating wavelet coherence significance\n"
     ]
    },
    {
     "name": "stderr",
     "output_type": "stream",
     "text": [
      "100%|███████| 300/300 [00:33<00:00,  8.86it/s]\n"
     ]
    },
    {
     "name": "stdout",
     "output_type": "stream",
     "text": [
      "done for file,  16\n",
      "Calculating wavelet coherence significance\n"
     ]
    },
    {
     "name": "stderr",
     "output_type": "stream",
     "text": [
      "100%|███████| 300/300 [00:33<00:00,  8.99it/s]\n"
     ]
    },
    {
     "name": "stdout",
     "output_type": "stream",
     "text": [
      "done for file,  17\n",
      "Calculating wavelet coherence significance\n"
     ]
    },
    {
     "name": "stderr",
     "output_type": "stream",
     "text": [
      "100%|███████| 300/300 [00:33<00:00,  8.96it/s]\n"
     ]
    },
    {
     "name": "stdout",
     "output_type": "stream",
     "text": [
      "done for file,  18\n",
      "Calculating wavelet coherence significance\n"
     ]
    },
    {
     "name": "stderr",
     "output_type": "stream",
     "text": [
      "100%|███████| 300/300 [00:33<00:00,  8.98it/s]\n"
     ]
    },
    {
     "name": "stdout",
     "output_type": "stream",
     "text": [
      "done for file,  19\n",
      "Calculating wavelet coherence significance\n"
     ]
    },
    {
     "name": "stderr",
     "output_type": "stream",
     "text": [
      "100%|███████| 300/300 [00:33<00:00,  8.94it/s]\n"
     ]
    },
    {
     "name": "stdout",
     "output_type": "stream",
     "text": [
      "done for file,  20\n",
      "Calculating wavelet coherence significance\n"
     ]
    },
    {
     "name": "stderr",
     "output_type": "stream",
     "text": [
      "100%|███████| 300/300 [00:33<00:00,  9.00it/s]\n"
     ]
    },
    {
     "name": "stdout",
     "output_type": "stream",
     "text": [
      "done for file,  21\n",
      "Calculating wavelet coherence significance\n"
     ]
    },
    {
     "name": "stderr",
     "output_type": "stream",
     "text": [
      "100%|███████| 300/300 [00:33<00:00,  8.96it/s]\n"
     ]
    },
    {
     "name": "stdout",
     "output_type": "stream",
     "text": [
      "done for file,  22\n",
      "Calculating wavelet coherence significance\n"
     ]
    },
    {
     "name": "stderr",
     "output_type": "stream",
     "text": [
      "100%|███████| 300/300 [00:33<00:00,  8.94it/s]\n"
     ]
    },
    {
     "name": "stdout",
     "output_type": "stream",
     "text": [
      "done for file,  23\n",
      "Calculating wavelet coherence significance\n"
     ]
    },
    {
     "name": "stderr",
     "output_type": "stream",
     "text": [
      "100%|███████| 300/300 [00:33<00:00,  8.95it/s]\n"
     ]
    },
    {
     "name": "stdout",
     "output_type": "stream",
     "text": [
      "done for file,  24\n",
      "Calculating wavelet coherence significance\n"
     ]
    },
    {
     "name": "stderr",
     "output_type": "stream",
     "text": [
      "100%|███████| 300/300 [00:32<00:00,  9.11it/s]\n"
     ]
    },
    {
     "name": "stdout",
     "output_type": "stream",
     "text": [
      "done for file,  25\n"
     ]
    }
   ],
   "source": [
    "for i in range(5,31):\n",
    "    bm1 = ds_bm.BMD[63:2259,i,0,0].values\n",
    "    cu1 = ds_cu.cross[38:2234,i].values\n",
    "    # detrend the data\n",
    "    bm_det1 = detrend(bm1) \n",
    "    cu_det1 = detrend(cu1)\n",
    "    coh1,pha1,coi1,freq1,sig951 = wct(bm_det1,cu_det1,dt=4,dj=1/8,J=45,sig=True,significance_level=0.95,wavelet='morlet',cache=False)\n",
    "\n",
    "    cross_power = np.abs(coh1)**2\n",
    "    cross_sig = np.ones([1, len(bm1)]) * sig951[:, None]\n",
    "    cross_sig = cross_power / cross_sig  # Power is significant where ratio > 1\n",
    "    cross_period = 1/freq1\n",
    "\n",
    "    coh1 = xr.DataArray(\n",
    "        data=coh1,\n",
    "        dims=[\"freq\",\"time\"],\n",
    "        coords={\"freq\":freq1,'time':ds_bm.AX006[38:2234].values})\n",
    "    sig1 = xr.DataArray(\n",
    "        data=cross_sig,\n",
    "        dims=[\"freq\",\"time\"],\n",
    "        coords={\"freq\":freq1,'time':ds_bm.AX006[38:2234].values})\n",
    "    \n",
    "    coi1 = xr.DataArray(\n",
    "        data=coi1,\n",
    "        dims=[\"time\"],\n",
    "        coords={'time':ds_bm.AX006[38:2234].values})\n",
    "    pha1 = xr.DataArray(\n",
    "        data=pha1,\n",
    "        dims=[\"freq\",\"time\"],\n",
    "        coords={\"freq\":freq1,'time':ds_bm.AX006[38:2234].values})\n",
    "\n",
    "    dsnew = xr.Dataset({\n",
    "        'coh1': coh1,\n",
    "        'sig1': sig1,\n",
    "        'pha1': pha1,\n",
    "        'coi1': coi1,\n",
    "    })\n",
    "#    dsnew.to_netcdf(\"/media/scilab/disk_ranjan/works/westcoast_adcp1/backscatternew/8process/coherence_cur_biomass/2mumbai/cross/2mumabi_dep_\"+str(10+i)+\"_\"+str(i*4)+\"m.nc\")\n",
    "    dsnew.to_netcdf(\"/media/scilab/disk_ranjan/works/westcoast_adcp1/backscatternew/8process/coherence_cur_biomass/2mumbai/cross/lagged_25days/2mumabi_dep_\"+str(10+i)+\"_\"+str(i*4)+\"m.nc\")\n",
    "\n",
    "    print(\"done for file, \",i-5)\n"
   ]
  },
  {
   "cell_type": "markdown",
   "id": "02ad9b18-36a4-48e9-a27f-6a6c3cc19882",
   "metadata": {},
   "source": [
    "# zonal "
   ]
  },
  {
   "cell_type": "code",
   "execution_count": null,
   "id": "c215c08f-f331-482e-9c8b-d82956532b5a",
   "metadata": {},
   "outputs": [],
   "source": [
    "for i in range(5,31):\n",
    "    bm1 = ds_bm.BMD[38:2259,i,0,0].values\n",
    "    cu1 = ds_cu.along[38:2259,i].values\n",
    "    # detrend the data\n",
    "    bm_det1 = detrend(bm1) \n",
    "    cu_det1 = detrend(cu1)\n",
    "    coh1,pha1,coi1,freq1,sig951 = wct(bm_det1,cu_det1,dt=4,dj=1/8,J=45,sig=True,significance_level=0.95,wavelet='morlet',cache=False)\n",
    "\n",
    "    cross_power = np.abs(coh1)**2\n",
    "    cross_sig = np.ones([1, len(bm1)]) * sig951[:, None]\n",
    "    cross_sig = cross_power / cross_sig  # Power is significant where ratio > 1\n",
    "    cross_period = 1/freq1\n",
    "\n",
    "    coh1 = xr.DataArray(\n",
    "        data=coh1,\n",
    "        dims=[\"freq\",\"time\"],\n",
    "        coords={\"freq\":freq1,'time':ds_bm.AX006[38:2259].values})\n",
    "    sig1 = xr.DataArray(\n",
    "        data=cross_sig,\n",
    "        dims=[\"freq\",\"time\"],\n",
    "        coords={\"freq\":freq1,'time':ds_bm.AX006[38:2259].values})\n",
    "    \n",
    "    coi1 = xr.DataArray(\n",
    "        data=coi1,\n",
    "        dims=[\"time\"],\n",
    "        coords={'time':ds_bm.AX006[38:2259].values})\n",
    "    pha1 = xr.DataArray(\n",
    "        data=pha1,\n",
    "        dims=[\"freq\",\"time\"],\n",
    "        coords={\"freq\":freq1,'time':ds_bm.AX006[38:2259].values})\n",
    "\n",
    "    dsnew = xr.Dataset({\n",
    "        'coh1': coh1,\n",
    "        'sig1': sig1,\n",
    "        'pha1': pha1,\n",
    "        'coi1': coi1,\n",
    "    })\n",
    "    dsnew.to_netcdf(\"/media/scilab/disk_ranjan/works/westcoast_adcp1/backscatternew/8process/coherence_cur_biomass/2mumbai/zonal_current/2mumabi_dep_\"+str(10+i)+\"_\"+str(i*4)+\"m.nc\")\n",
    "    print(\"done for file, \",i-5)\n"
   ]
  },
  {
   "cell_type": "code",
   "execution_count": null,
   "id": "e2b44010-be1e-4357-862f-c7fbdcc624fd",
   "metadata": {},
   "outputs": [],
   "source": [
    "for i in range(5,6):\n",
    "    bm1 = ds_bm.BMD[38:229,i,0,0].values\n",
    "    cu1 = ds_cu.BMD[38:229,i,0,0].values\n",
    "    # detrend the data\n",
    "    bm_det1 = detrend(bm1) \n",
    "    cu_det1 = detrend(cu1)\n",
    "    coh1,pha1,coi1,freq1,sig951 = wct(bm_det1,cu_det1,dt=4,dj=1/8,J=45,sig=True,significance_level=0.95,wavelet='morlet',cache=False)\n",
    "\n",
    "    cross_power = np.abs(coh1)**2\n",
    "    cross_sig = np.ones([1, len(bm1)]) * sig951[:, None]\n",
    "    cross_sig = cross_power / cross_sig  # Power is significant where ratio > 1\n",
    "    cross_period = 1/freq1\n"
   ]
  },
  {
   "cell_type": "code",
   "execution_count": null,
   "id": "e982591a-4f80-475e-b3c3-6417e203a9f8",
   "metadata": {},
   "outputs": [],
   "source": [
    "for i in range(5,6):\n",
    "    bm1 = ds_bm.BMD[38:2259,i,0,0].values\n",
    "    cu1 = ds_cu.BMD[38:2259,i,0,0].values\n",
    "    # detrend the data\n",
    "    bm_det1 = detrend(bm1) \n",
    "    cu_det1 = detrend(cu1)\n",
    "    coh1,pha1,coi1,freq1,sig951 = wct(bm_det1,cu_det1,dt=1,dj=7/12,J=-1,sig=True,significance_level=0.95,wavelet='morlet',cache=False)\n",
    "\n",
    "    cross_power = np.abs(coh1)**2\n",
    "    cross_sig = np.ones([1, len(bm1)]) * sig951[:, None]\n",
    "    cross_sig = cross_power / cross_sig  # Power is significant where ratio > 1\n",
    "    cross_period = 1/freq1\n"
   ]
  },
  {
   "cell_type": "code",
   "execution_count": null,
   "id": "cd8a95ad-03db-468c-9d8e-41fb2065a256",
   "metadata": {},
   "outputs": [],
   "source": [
    "customticks = [15,30,60,90,180,360]\n",
    "customlabel = [\"15\",\"30\",\"60\",\"90\",\"180\",\"360\"]"
   ]
  },
  {
   "cell_type": "markdown",
   "id": "ef7e3db6-96ab-43d1-b4b4-648875c0f2d1",
   "metadata": {},
   "source": [
    "## plotting the period (30 or 90 or 30 to 90 ??) for all depth.\n",
    "### the wavelet coherence is calculated above"
   ]
  },
  {
   "cell_type": "code",
   "execution_count": 39,
   "id": "a379993a-e6b4-4255-988e-c300201da224",
   "metadata": {},
   "outputs": [],
   "source": [
    "#alongshore wavelets\n",
    "path_coha = \"/media/scilab/disk_ranjan/works/westcoast_adcp1/backscatternew/8process/coherence_cur_biomass/2mumbai/along/\"\n",
    "files_coha = sorted([f for f in os.listdir(path_coha) if f.endswith(\".nc\")])\n",
    "ds_coha = [xr.open_dataset(path_coha+files_coha[i]) for i in range(len(files_coha))]\n"
   ]
  },
  {
   "cell_type": "code",
   "execution_count": 40,
   "id": "abce2cbe-2632-4d2b-8544-cc1c19abfde6",
   "metadata": {},
   "outputs": [],
   "source": [
    "#cross shore wavelets\n",
    "path_cohc = \"/media/scilab/disk_ranjan/works/westcoast_adcp1/backscatternew/8process/coherence_cur_biomass/2mumbai/cross/\"\n",
    "files_cohc = sorted([f for f in os.listdir(path_cohc) if f.endswith(\".nc\")])\n",
    "ds_cohc = [xr.open_dataset(path_cohc+files_cohc[i]) for i in range(len(files_cohc))]\n"
   ]
  },
  {
   "cell_type": "code",
   "execution_count": 41,
   "id": "cdcde59f-ed7b-4083-8377-7bebe3b660a9",
   "metadata": {},
   "outputs": [],
   "source": [
    "#zonal wavelets\n",
    "path_cohu = \"/media/scilab/disk_ranjan/works/westcoast_adcp1/backscatternew/8process/coherence_cur_biomass/2mumbai/zonal_current/\"\n",
    "files_cohu = sorted([f for f in os.listdir(path_cohu) if f.endswith(\".nc\")])\n",
    "ds_cohu = [xr.open_dataset(path_cohu+files_cohu[i]) for i in range(len(files_cohu))]"
   ]
  },
  {
   "cell_type": "code",
   "execution_count": 42,
   "id": "afe28f07-2e04-433e-9f1a-b161104d323b",
   "metadata": {},
   "outputs": [],
   "source": [
    "#meridional wavelets\n",
    "path_cohv = \"/media/scilab/disk_ranjan/works/westcoast_adcp1/backscatternew/8process/coherence_cur_biomass/2mumbai/meridional/\"\n",
    "files_cohv = sorted([f for f in os.listdir(path_cohv) if f.endswith(\".nc\")])\n",
    "ds_cohv = [xr.open_dataset(path_cohv+files_cohv[i]) for i in range(len(files_cohv))]"
   ]
  },
  {
   "cell_type": "code",
   "execution_count": 56,
   "id": "94958f47-cb67-47e2-80d9-9f3cae9eb5a9",
   "metadata": {},
   "outputs": [],
   "source": [
    "mask = (1/ds_coha[0].freq > 300) & (1/ds_coha[0].freq < 400)\n",
    "ind = np.where(mask)[0]\n",
    "\n",
    "coha_30d,phaa_30d = [],[]\n",
    "for i in range(len(ds_cohc)):\n",
    "    coha_e = ds_coha[i].coh1[-2,:].values\n",
    "    phaa_e = ds_coha[i].pha1[-2,:].values\n",
    "    coha_30d.append(coha_e)\n",
    "    phaa_30d.append(phaa_e)\n",
    "    \n",
    "coha_30d = xr.DataArray(coha_30d)\n",
    "phaa_30d = xr.DataArray(phaa_30d)\n",
    "\n",
    "mask = (1/ds_cohc[0].freq > 300) & (1/ds_cohc[0].freq < 400)\n",
    "ind = np.where(mask)[0]\n",
    "\n",
    "cohc_30d,phac_30d = [],[]\n",
    "for i in range(len(ds_cohc)):\n",
    "    cohc_e = ds_cohc[i].coh1[-2,:].values\n",
    "    phac_e = ds_cohc[i].pha1[-2,:].values\n",
    "    cohc_30d.append(cohc_e)\n",
    "    phac_30d.append(phac_e)\n",
    "    \n",
    "cohc_30d = xr.DataArray(cohc_30d)\n",
    "phac_30d = xr.DataArray(phac_30d)\n",
    "\n",
    "mask = (1/ds_cohu[0].freq > 300) & (1/ds_cohu[0].freq < 400)\n",
    "ind = np.where(mask)[0]\n",
    "\n",
    "cohu_30d,phau_30d = [],[]\n",
    "for i in range(len(ds_cohc)):\n",
    "    cohu_e = ds_cohu[i].coh1[-2,:].values\n",
    "    phau_e = ds_cohu[i].pha1[-2,:].values\n",
    "    cohu_30d.append(cohu_e)\n",
    "    phau_30d.append(phau_e)\n",
    "    \n",
    "cohu_30d = xr.DataArray(cohu_30d)\n",
    "phau_30d = xr.DataArray(phau_30d)\n",
    "\n",
    "mask = (1/ds_cohv[0].freq > 300) & (1/ds_cohv[0].freq < 400)\n",
    "ind = np.where(mask)[0]\n",
    "\n",
    "cohv_30d,phav_30d = [],[]\n",
    "for i in range(len(ds_cohc)):\n",
    "    cohv_e = ds_cohv[i].coh1[-2,:].values\n",
    "    phav_e = ds_cohv[i].pha1[-2,:].values\n",
    "    cohv_30d.append(cohv_e)\n",
    "    phav_30d.append(phav_e)\n",
    "    \n",
    "cohv_30d = xr.DataArray(cohv_30d)\n",
    "phav_30d = xr.DataArray(phav_30d)\n"
   ]
  },
  {
   "cell_type": "code",
   "execution_count": 51,
   "id": "fe5fa352-144c-4bcc-a750-0d6d5d82ac02",
   "metadata": {},
   "outputs": [
    {
     "data": {
      "text/html": [
       "<div><svg style=\"position: absolute; width: 0; height: 0; overflow: hidden\">\n",
       "<defs>\n",
       "<symbol id=\"icon-database\" viewBox=\"0 0 32 32\">\n",
       "<path d=\"M16 0c-8.837 0-16 2.239-16 5v4c0 2.761 7.163 5 16 5s16-2.239 16-5v-4c0-2.761-7.163-5-16-5z\"></path>\n",
       "<path d=\"M16 17c-8.837 0-16-2.239-16-5v6c0 2.761 7.163 5 16 5s16-2.239 16-5v-6c0 2.761-7.163 5-16 5z\"></path>\n",
       "<path d=\"M16 26c-8.837 0-16-2.239-16-5v6c0 2.761 7.163 5 16 5s16-2.239 16-5v-6c0 2.761-7.163 5-16 5z\"></path>\n",
       "</symbol>\n",
       "<symbol id=\"icon-file-text2\" viewBox=\"0 0 32 32\">\n",
       "<path d=\"M28.681 7.159c-0.694-0.947-1.662-2.053-2.724-3.116s-2.169-2.030-3.116-2.724c-1.612-1.182-2.393-1.319-2.841-1.319h-15.5c-1.378 0-2.5 1.121-2.5 2.5v27c0 1.378 1.122 2.5 2.5 2.5h23c1.378 0 2.5-1.122 2.5-2.5v-19.5c0-0.448-0.137-1.23-1.319-2.841zM24.543 5.457c0.959 0.959 1.712 1.825 2.268 2.543h-4.811v-4.811c0.718 0.556 1.584 1.309 2.543 2.268zM28 29.5c0 0.271-0.229 0.5-0.5 0.5h-23c-0.271 0-0.5-0.229-0.5-0.5v-27c0-0.271 0.229-0.5 0.5-0.5 0 0 15.499-0 15.5 0v7c0 0.552 0.448 1 1 1h7v19.5z\"></path>\n",
       "<path d=\"M23 26h-14c-0.552 0-1-0.448-1-1s0.448-1 1-1h14c0.552 0 1 0.448 1 1s-0.448 1-1 1z\"></path>\n",
       "<path d=\"M23 22h-14c-0.552 0-1-0.448-1-1s0.448-1 1-1h14c0.552 0 1 0.448 1 1s-0.448 1-1 1z\"></path>\n",
       "<path d=\"M23 18h-14c-0.552 0-1-0.448-1-1s0.448-1 1-1h14c0.552 0 1 0.448 1 1s-0.448 1-1 1z\"></path>\n",
       "</symbol>\n",
       "</defs>\n",
       "</svg>\n",
       "<style>/* CSS stylesheet for displaying xarray objects in jupyterlab.\n",
       " *\n",
       " */\n",
       "\n",
       ":root {\n",
       "  --xr-font-color0: var(--jp-content-font-color0, rgba(0, 0, 0, 1));\n",
       "  --xr-font-color2: var(--jp-content-font-color2, rgba(0, 0, 0, 0.54));\n",
       "  --xr-font-color3: var(--jp-content-font-color3, rgba(0, 0, 0, 0.38));\n",
       "  --xr-border-color: var(--jp-border-color2, #e0e0e0);\n",
       "  --xr-disabled-color: var(--jp-layout-color3, #bdbdbd);\n",
       "  --xr-background-color: var(--jp-layout-color0, white);\n",
       "  --xr-background-color-row-even: var(--jp-layout-color1, white);\n",
       "  --xr-background-color-row-odd: var(--jp-layout-color2, #eeeeee);\n",
       "}\n",
       "\n",
       "html[theme=dark],\n",
       "body[data-theme=dark],\n",
       "body.vscode-dark {\n",
       "  --xr-font-color0: rgba(255, 255, 255, 1);\n",
       "  --xr-font-color2: rgba(255, 255, 255, 0.54);\n",
       "  --xr-font-color3: rgba(255, 255, 255, 0.38);\n",
       "  --xr-border-color: #1F1F1F;\n",
       "  --xr-disabled-color: #515151;\n",
       "  --xr-background-color: #111111;\n",
       "  --xr-background-color-row-even: #111111;\n",
       "  --xr-background-color-row-odd: #313131;\n",
       "}\n",
       "\n",
       ".xr-wrap {\n",
       "  display: block !important;\n",
       "  min-width: 300px;\n",
       "  max-width: 700px;\n",
       "}\n",
       "\n",
       ".xr-text-repr-fallback {\n",
       "  /* fallback to plain text repr when CSS is not injected (untrusted notebook) */\n",
       "  display: none;\n",
       "}\n",
       "\n",
       ".xr-header {\n",
       "  padding-top: 6px;\n",
       "  padding-bottom: 6px;\n",
       "  margin-bottom: 4px;\n",
       "  border-bottom: solid 1px var(--xr-border-color);\n",
       "}\n",
       "\n",
       ".xr-header > div,\n",
       ".xr-header > ul {\n",
       "  display: inline;\n",
       "  margin-top: 0;\n",
       "  margin-bottom: 0;\n",
       "}\n",
       "\n",
       ".xr-obj-type,\n",
       ".xr-array-name {\n",
       "  margin-left: 2px;\n",
       "  margin-right: 10px;\n",
       "}\n",
       "\n",
       ".xr-obj-type {\n",
       "  color: var(--xr-font-color2);\n",
       "}\n",
       "\n",
       ".xr-sections {\n",
       "  padding-left: 0 !important;\n",
       "  display: grid;\n",
       "  grid-template-columns: 150px auto auto 1fr 20px 20px;\n",
       "}\n",
       "\n",
       ".xr-section-item {\n",
       "  display: contents;\n",
       "}\n",
       "\n",
       ".xr-section-item input {\n",
       "  display: none;\n",
       "}\n",
       "\n",
       ".xr-section-item input + label {\n",
       "  color: var(--xr-disabled-color);\n",
       "}\n",
       "\n",
       ".xr-section-item input:enabled + label {\n",
       "  cursor: pointer;\n",
       "  color: var(--xr-font-color2);\n",
       "}\n",
       "\n",
       ".xr-section-item input:enabled + label:hover {\n",
       "  color: var(--xr-font-color0);\n",
       "}\n",
       "\n",
       ".xr-section-summary {\n",
       "  grid-column: 1;\n",
       "  color: var(--xr-font-color2);\n",
       "  font-weight: 500;\n",
       "}\n",
       "\n",
       ".xr-section-summary > span {\n",
       "  display: inline-block;\n",
       "  padding-left: 0.5em;\n",
       "}\n",
       "\n",
       ".xr-section-summary-in:disabled + label {\n",
       "  color: var(--xr-font-color2);\n",
       "}\n",
       "\n",
       ".xr-section-summary-in + label:before {\n",
       "  display: inline-block;\n",
       "  content: '►';\n",
       "  font-size: 11px;\n",
       "  width: 15px;\n",
       "  text-align: center;\n",
       "}\n",
       "\n",
       ".xr-section-summary-in:disabled + label:before {\n",
       "  color: var(--xr-disabled-color);\n",
       "}\n",
       "\n",
       ".xr-section-summary-in:checked + label:before {\n",
       "  content: '▼';\n",
       "}\n",
       "\n",
       ".xr-section-summary-in:checked + label > span {\n",
       "  display: none;\n",
       "}\n",
       "\n",
       ".xr-section-summary,\n",
       ".xr-section-inline-details {\n",
       "  padding-top: 4px;\n",
       "  padding-bottom: 4px;\n",
       "}\n",
       "\n",
       ".xr-section-inline-details {\n",
       "  grid-column: 2 / -1;\n",
       "}\n",
       "\n",
       ".xr-section-details {\n",
       "  display: none;\n",
       "  grid-column: 1 / -1;\n",
       "  margin-bottom: 5px;\n",
       "}\n",
       "\n",
       ".xr-section-summary-in:checked ~ .xr-section-details {\n",
       "  display: contents;\n",
       "}\n",
       "\n",
       ".xr-array-wrap {\n",
       "  grid-column: 1 / -1;\n",
       "  display: grid;\n",
       "  grid-template-columns: 20px auto;\n",
       "}\n",
       "\n",
       ".xr-array-wrap > label {\n",
       "  grid-column: 1;\n",
       "  vertical-align: top;\n",
       "}\n",
       "\n",
       ".xr-preview {\n",
       "  color: var(--xr-font-color3);\n",
       "}\n",
       "\n",
       ".xr-array-preview,\n",
       ".xr-array-data {\n",
       "  padding: 0 5px !important;\n",
       "  grid-column: 2;\n",
       "}\n",
       "\n",
       ".xr-array-data,\n",
       ".xr-array-in:checked ~ .xr-array-preview {\n",
       "  display: none;\n",
       "}\n",
       "\n",
       ".xr-array-in:checked ~ .xr-array-data,\n",
       ".xr-array-preview {\n",
       "  display: inline-block;\n",
       "}\n",
       "\n",
       ".xr-dim-list {\n",
       "  display: inline-block !important;\n",
       "  list-style: none;\n",
       "  padding: 0 !important;\n",
       "  margin: 0;\n",
       "}\n",
       "\n",
       ".xr-dim-list li {\n",
       "  display: inline-block;\n",
       "  padding: 0;\n",
       "  margin: 0;\n",
       "}\n",
       "\n",
       ".xr-dim-list:before {\n",
       "  content: '(';\n",
       "}\n",
       "\n",
       ".xr-dim-list:after {\n",
       "  content: ')';\n",
       "}\n",
       "\n",
       ".xr-dim-list li:not(:last-child):after {\n",
       "  content: ',';\n",
       "  padding-right: 5px;\n",
       "}\n",
       "\n",
       ".xr-has-index {\n",
       "  font-weight: bold;\n",
       "}\n",
       "\n",
       ".xr-var-list,\n",
       ".xr-var-item {\n",
       "  display: contents;\n",
       "}\n",
       "\n",
       ".xr-var-item > div,\n",
       ".xr-var-item label,\n",
       ".xr-var-item > .xr-var-name span {\n",
       "  background-color: var(--xr-background-color-row-even);\n",
       "  margin-bottom: 0;\n",
       "}\n",
       "\n",
       ".xr-var-item > .xr-var-name:hover span {\n",
       "  padding-right: 5px;\n",
       "}\n",
       "\n",
       ".xr-var-list > li:nth-child(odd) > div,\n",
       ".xr-var-list > li:nth-child(odd) > label,\n",
       ".xr-var-list > li:nth-child(odd) > .xr-var-name span {\n",
       "  background-color: var(--xr-background-color-row-odd);\n",
       "}\n",
       "\n",
       ".xr-var-name {\n",
       "  grid-column: 1;\n",
       "}\n",
       "\n",
       ".xr-var-dims {\n",
       "  grid-column: 2;\n",
       "}\n",
       "\n",
       ".xr-var-dtype {\n",
       "  grid-column: 3;\n",
       "  text-align: right;\n",
       "  color: var(--xr-font-color2);\n",
       "}\n",
       "\n",
       ".xr-var-preview {\n",
       "  grid-column: 4;\n",
       "}\n",
       "\n",
       ".xr-index-preview {\n",
       "  grid-column: 2 / 5;\n",
       "  color: var(--xr-font-color2);\n",
       "}\n",
       "\n",
       ".xr-var-name,\n",
       ".xr-var-dims,\n",
       ".xr-var-dtype,\n",
       ".xr-preview,\n",
       ".xr-attrs dt {\n",
       "  white-space: nowrap;\n",
       "  overflow: hidden;\n",
       "  text-overflow: ellipsis;\n",
       "  padding-right: 10px;\n",
       "}\n",
       "\n",
       ".xr-var-name:hover,\n",
       ".xr-var-dims:hover,\n",
       ".xr-var-dtype:hover,\n",
       ".xr-attrs dt:hover {\n",
       "  overflow: visible;\n",
       "  width: auto;\n",
       "  z-index: 1;\n",
       "}\n",
       "\n",
       ".xr-var-attrs,\n",
       ".xr-var-data,\n",
       ".xr-index-data {\n",
       "  display: none;\n",
       "  background-color: var(--xr-background-color) !important;\n",
       "  padding-bottom: 5px !important;\n",
       "}\n",
       "\n",
       ".xr-var-attrs-in:checked ~ .xr-var-attrs,\n",
       ".xr-var-data-in:checked ~ .xr-var-data,\n",
       ".xr-index-data-in:checked ~ .xr-index-data {\n",
       "  display: block;\n",
       "}\n",
       "\n",
       ".xr-var-data > table {\n",
       "  float: right;\n",
       "}\n",
       "\n",
       ".xr-var-name span,\n",
       ".xr-var-data,\n",
       ".xr-index-name div,\n",
       ".xr-index-data,\n",
       ".xr-attrs {\n",
       "  padding-left: 25px !important;\n",
       "}\n",
       "\n",
       ".xr-attrs,\n",
       ".xr-var-attrs,\n",
       ".xr-var-data,\n",
       ".xr-index-data {\n",
       "  grid-column: 1 / -1;\n",
       "}\n",
       "\n",
       "dl.xr-attrs {\n",
       "  padding: 0;\n",
       "  margin: 0;\n",
       "  display: grid;\n",
       "  grid-template-columns: 125px auto;\n",
       "}\n",
       "\n",
       ".xr-attrs dt,\n",
       ".xr-attrs dd {\n",
       "  padding: 0;\n",
       "  margin: 0;\n",
       "  float: left;\n",
       "  padding-right: 10px;\n",
       "  width: auto;\n",
       "}\n",
       "\n",
       ".xr-attrs dt {\n",
       "  font-weight: normal;\n",
       "  grid-column: 1;\n",
       "}\n",
       "\n",
       ".xr-attrs dt:hover span {\n",
       "  display: inline-block;\n",
       "  background: var(--xr-background-color);\n",
       "  padding-right: 10px;\n",
       "}\n",
       "\n",
       ".xr-attrs dd {\n",
       "  grid-column: 2;\n",
       "  white-space: pre-wrap;\n",
       "  word-break: break-all;\n",
       "}\n",
       "\n",
       ".xr-icon-database,\n",
       ".xr-icon-file-text2,\n",
       ".xr-no-icon {\n",
       "  display: inline-block;\n",
       "  vertical-align: middle;\n",
       "  width: 1em;\n",
       "  height: 1.5em !important;\n",
       "  stroke-width: 0;\n",
       "  stroke: currentColor;\n",
       "  fill: currentColor;\n",
       "}\n",
       "</style><pre class='xr-text-repr-fallback'>&lt;xarray.DataArray &#x27;freq&#x27; ()&gt; Size: 8B\n",
       "array(117.37651753)\n",
       "Coordinates:\n",
       "    freq     float64 8B 0.00852</pre><div class='xr-wrap' style='display:none'><div class='xr-header'><div class='xr-obj-type'>xarray.DataArray</div><div class='xr-array-name'>'freq'</div></div><ul class='xr-sections'><li class='xr-section-item'><div class='xr-array-wrap'><input id='section-139f4449-6cfd-435d-937f-c792577f7fbd' class='xr-array-in' type='checkbox' checked><label for='section-139f4449-6cfd-435d-937f-c792577f7fbd' title='Show/hide data repr'><svg class='icon xr-icon-database'><use xlink:href='#icon-database'></use></svg></label><div class='xr-array-preview xr-preview'><span>117.4</span></div><div class='xr-array-data'><pre>array(117.37651753)</pre></div></div></li><li class='xr-section-item'><input id='section-2cfdc33b-e7c2-4cc9-9c1f-dccca57883f8' class='xr-section-summary-in' type='checkbox'  checked><label for='section-2cfdc33b-e7c2-4cc9-9c1f-dccca57883f8' class='xr-section-summary' >Coordinates: <span>(1)</span></label><div class='xr-section-inline-details'></div><div class='xr-section-details'><ul class='xr-var-list'><li class='xr-var-item'><div class='xr-var-name'><span>freq</span></div><div class='xr-var-dims'>()</div><div class='xr-var-dtype'>float64</div><div class='xr-var-preview xr-preview'>0.00852</div><input id='attrs-3149cc08-b375-400b-9713-a6aad2ea5fc5' class='xr-var-attrs-in' type='checkbox' disabled><label for='attrs-3149cc08-b375-400b-9713-a6aad2ea5fc5' title='Show/Hide attributes'><svg class='icon xr-icon-file-text2'><use xlink:href='#icon-file-text2'></use></svg></label><input id='data-a2b1a425-6d15-4f0f-a864-d87aa58ba90f' class='xr-var-data-in' type='checkbox'><label for='data-a2b1a425-6d15-4f0f-a864-d87aa58ba90f' title='Show/Hide data repr'><svg class='icon xr-icon-database'><use xlink:href='#icon-database'></use></svg></label><div class='xr-var-attrs'><dl class='xr-attrs'></dl></div><div class='xr-var-data'><pre>array(0.00851959)</pre></div></li></ul></div></li><li class='xr-section-item'><input id='section-462448ba-1b8a-4d94-9327-9ce54f842e29' class='xr-section-summary-in' type='checkbox' disabled ><label for='section-462448ba-1b8a-4d94-9327-9ce54f842e29' class='xr-section-summary'  title='Expand/collapse section'>Indexes: <span>(0)</span></label><div class='xr-section-inline-details'></div><div class='xr-section-details'><ul class='xr-var-list'></ul></div></li><li class='xr-section-item'><input id='section-a4331bf6-f790-4e66-a8ad-854cb9ac51bd' class='xr-section-summary-in' type='checkbox' disabled ><label for='section-a4331bf6-f790-4e66-a8ad-854cb9ac51bd' class='xr-section-summary'  title='Expand/collapse section'>Attributes: <span>(0)</span></label><div class='xr-section-inline-details'></div><div class='xr-section-details'><dl class='xr-attrs'></dl></div></li></ul></div></div>"
      ],
      "text/plain": [
       "<xarray.DataArray 'freq' ()> Size: 8B\n",
       "array(117.37651753)\n",
       "Coordinates:\n",
       "    freq     float64 8B 0.00852"
      ]
     },
     "execution_count": 51,
     "metadata": {},
     "output_type": "execute_result"
    }
   ],
   "source": []
  },
  {
   "cell_type": "code",
   "execution_count": null,
   "id": "724566f3-700e-42c4-945b-26ced00c0ed2",
   "metadata": {},
   "outputs": [],
   "source": [
    "phaa_30dn = phaa_30d.where(coha_30d > 0.3, np.nan)\n",
    "angle = 0.5 * np.pi - phaa_30dn\n",
    "u, v = np.cos(angle), np.sin(angle)\n",
    "ax[0].quiver(ds_cohu[0].time[::60].values,np.arange(20,31*4,12), u[::3, ::60], v[::3, ::60],units='width', angles='uv', pivot='tail', linewidth=0.051, headwidth=5, headlength=3, headaxislength=2,   minshaft=0.1, minlength=5)\n"
   ]
  },
  {
   "cell_type": "code",
   "execution_count": null,
   "id": "87195265-f2cd-47c2-a6a6-3a5297cfb690",
   "metadata": {},
   "outputs": [],
   "source": [
    "ab2 = ds_cohu.pha1.where(ds_cohu.coh1 > 0.7, drop = True)\n",
    "x = ab2.time[::60]\n",
    "y = 1/ab2.freq\n",
    "X,Y = np.meshgrid(x,y)\n",
    "u2 = np.sin(ab2[:,::60])\n",
    "v2 = np.cos(ab2[:,::60])\n",
    "ax[3].quiver(X,Y,u2,v2,scale=60,width=0.001,headwidth=5,color='k')\n"
   ]
  },
  {
   "cell_type": "code",
   "execution_count": null,
   "id": "55ce51c2-b50a-43bf-9528-b4386c9cf455",
   "metadata": {},
   "outputs": [],
   "source": [
    "coha_30d.shape,ds_cohu[0].coh1.shape"
   ]
  },
  {
   "cell_type": "code",
   "execution_count": 57,
   "id": "2ed4c082-d337-4c8a-b1cd-8fb70e3be122",
   "metadata": {},
   "outputs": [
    {
     "data": {
      "image/png": "[encoded data removed]",
      "text/plain": [
       "<Figure size 700x600 with 4 Axes>"
      ]
     },
     "metadata": {},
     "output_type": "display_data"
    }
   ],
   "source": [
    "fig, ax = plt.subplots(nrows=4,ncols=1,figsize=(7,6),sharex=True,sharey=True)\n",
    "\n",
    "figcol = ax[0].contourf(ds_cohu[0].time[:].values,np.arange(20,31*4,4),coha_30d,cmap=\"turbo\",levels=np.arange(0,0.9,0.1),extend=\"both\")\n",
    "ax[1].contourf(ds_cohu[0].time[:].values,np.arange(20,31*4,4),cohc_30d,cmap=\"turbo\",levels=np.arange(0,0.9,0.1),extend=\"both\")\n",
    "ax[2].contourf(ds_cohu[0].time.values,np.arange(20,31*4,4),cohu_30d,cmap=\"turbo\",levels=np.arange(0,0.9,0.1),extend=\"both\")\n",
    "ax[3].contourf(ds_cohu[0].time.values,np.arange(20,31*4,4),cohv_30d,cmap=\"turbo\",levels=np.arange(0,0.9,0.1),extend=\"both\")\n",
    "\n",
    "\"\"\"\n",
    "ax[0].contour(ds_cohu[0].time.values,np.arange(20,31*4,4),coha_30d,levels=[0.5],colors='white')\n",
    "ax[1].contour(ds_cohu[0].time.values,np.arange(20,31*4,4),cohc_30d,levels=[0.5],colors='white')\n",
    "ax[2].contour(ds_cohu[0].time.values,np.arange(20,31*4,4),cohu_30d,levels=[0.5],colors='white')\n",
    "ax[3].contour(ds_cohu[0].time.values,np.arange(20,31*4,4),cohv_30d,levels=[0.5],colors='white')\n",
    "\"\"\"\n",
    "\n",
    "phaa_30dn = phaa_30d.where(coha_30d > 0.3, np.nan)\n",
    "angle = 0.5 * np.pi - phaa_30dn\n",
    "u, v = np.cos(angle), np.sin(angle)\n",
    "ax[0].quiver(ds_cohu[0].time[::60].values,np.arange(20,31*4,12), u[::3, ::60], v[::3, ::60], angles='uv', pivot='tail', linewidth=0.051, scale=35, width=0.002,headwidth=10, headlength=4, headaxislength=1,   minshaft=0.05, minlength=2.5)\n",
    "             \n",
    "\n",
    "phac_30dn = phac_30d.where(cohc_30d > 0.3, np.nan)\n",
    "angle = 0.5 * np.pi - phac_30dn\n",
    "u, v = np.cos(angle), np.sin(angle)\n",
    "ax[1].quiver(ds_cohu[0].time[::60].values,np.arange(20,31*4,12), u[::3, ::60], v[::3, ::60], angles='uv', pivot='tail', linewidth=0.051, scale=35, width=0.002,headwidth=10, headlength=4, headaxislength=1,   minshaft=0.05, minlength=2.5)\n",
    "\n",
    "phau_30dn = phau_30d.where(cohu_30d > 0.3, np.nan)\n",
    "angle = 0.5 * np.pi - phau_30dn\n",
    "u, v = np.cos(angle), np.sin(angle)\n",
    "ax[2].quiver(ds_cohu[0].time[::60].values,np.arange(20,31*4,12), u[::3, ::60], v[::3, ::60], angles='uv', pivot='tail', linewidth=0.051, scale=35, width=0.002,headwidth=10, headlength=4, headaxislength=1,   minshaft=0.05, minlength=2.5)\n",
    "\n",
    "phav_30dn = phav_30d.where(cohv_30d > 0.3, np.nan)\n",
    "angle = 0.5 * np.pi - phav_30dn\n",
    "u, v = np.cos(angle), np.sin(angle)\n",
    "ax[3].quiver(ds_cohv[0].time[::60].values,np.arange(20,31*4,12), u[::3, ::60], v[::3, ::60], angles='uv', pivot='tail', linewidth=0.051, scale=35, width=0.002,headwidth=10, headlength=4, headaxislength=1,   minshaft=0.05, minlength=2.5)\n",
    "\n",
    "\n",
    "ax[0].set_ylabel(\"cross shore\")\n",
    "ax[1].set_ylabel(\"along shore\")\n",
    "ax[2].set_ylabel(\"zonal\")\n",
    "ax[3].set_ylabel(\"meridional\")\n",
    "\n",
    "\n",
    "ax[0].set_ylim(ymin=0,ymax=120)\n",
    "ax[1].invert_yaxis()\n",
    "fig.suptitle(\"Wavelet coherence power at 362 days\")\n",
    "plt.savefig(\"/media/scilab/disk_ranjan/works/westcoast_adcp1/backscatternew/8process/coherence_cur_biomass/2mumbai/wavelet_annual_band.png\",dpi=300)\n",
    "plt.savefig(\"/media/scilab/disk_ranjan/works/backscatter_wc/figures/wavelet_annual_band.png\",dpi=300)\n"
   ]
  },
  {
   "cell_type": "code",
   "execution_count": null,
   "id": "006e9043-ca69-4bb7-875a-2fb24a9c52c0",
   "metadata": {},
   "outputs": [],
   "source": []
  },
  {
   "cell_type": "code",
   "execution_count": null,
   "id": "35c896c5-9eae-43d4-897c-e3507d2917db",
   "metadata": {},
   "outputs": [],
   "source": []
  },
  {
   "cell_type": "code",
   "execution_count": null,
   "id": "74176ea6-e58d-4c66-9598-6cb68bed46f9",
   "metadata": {},
   "outputs": [],
   "source": []
  },
  {
   "cell_type": "code",
   "execution_count": 36,
   "id": "fdd2cab0-4224-42b1-b447-c57129a40f4c",
   "metadata": {},
   "outputs": [],
   "source": [
    "#alongshore wavelets\n",
    "path_coha = \"/media/scilab/disk_ranjan/works/westcoast_adcp1/backscatternew/8process/coherence_cur_biomass/2mumbai/along/lagged_30days/\"\n",
    "files_coha = sorted([f for f in os.listdir(path_coha) if f.endswith(\".nc\")])\n",
    "ds_coha = [xr.open_dataset(path_coha+files_coha[i]) for i in range(len(files_coha))]\n",
    "\n",
    "#cross shore wavelets\n",
    "path_cohc = \"/media/scilab/disk_ranjan/works/westcoast_adcp1/backscatternew/8process/coherence_cur_biomass/2mumbai/cross/lagged_30days/\"\n",
    "files_cohc = sorted([f for f in os.listdir(path_cohc) if f.endswith(\".nc\")])\n",
    "ds_cohc = [xr.open_dataset(path_cohc+files_cohc[i]) for i in range(len(files_cohc))]\n",
    "\n",
    "path = \"/media/scilab/disk_ranjan/works/westcoast_adcp1/backscatternew/8process/coherence_cur_biomass/2mumbai/lagged/wavelet_lag_30days.png\"\n"
   ]
  },
  {
   "cell_type": "code",
   "execution_count": 37,
   "id": "27e0406e-3d50-45be-bf21-8e318e9e9fef",
   "metadata": {},
   "outputs": [],
   "source": [
    "# index 0f -2 for annual period, 362 days.\n",
    "coha_30d,phaa_30d = [],[]\n",
    "for i in range(len(ds_cohc)):\n",
    "    coha_e = ds_coha[i].coh1[-2,:].values\n",
    "    phaa_e = ds_coha[i].pha1[-2,:].values\n",
    "    coha_30d.append(coha_e)\n",
    "    phaa_30d.append(phaa_e)\n",
    "    \n",
    "coha_30d = xr.DataArray(coha_30d)\n",
    "phaa_30d = xr.DataArray(phaa_30d)\n",
    "\n",
    "cohc_30d,phac_30d = [],[]\n",
    "for i in range(len(ds_cohc)):\n",
    "    cohc_e = ds_cohc[i].coh1[-2,:].values\n",
    "    phac_e = ds_cohc[i].pha1[-2,:].values\n",
    "    cohc_30d.append(cohc_e)\n",
    "    phac_30d.append(phac_e)\n",
    "    \n",
    "cohc_30d = xr.DataArray(cohc_30d)\n",
    "phac_30d = xr.DataArray(phac_30d)\n"
   ]
  },
  {
   "cell_type": "code",
   "execution_count": 38,
   "id": "6cd656a5-6b71-4726-9244-f59d64ee3ba4",
   "metadata": {},
   "outputs": [
    {
     "data": {
      "image/png": "[encoded data removed]",
      "text/plain": [
       "<Figure size 700x600 with 3 Axes>"
      ]
     },
     "metadata": {},
     "output_type": "display_data"
    }
   ],
   "source": [
    "fig, ax = plt.subplots(nrows=2,ncols=1,figsize=(7,6),sharex=True,sharey=True)\n",
    "\n",
    "plt.subplots_adjust(wspace=0.04,left=0.12,bottom=0.12,top=0.92,hspace=0.1,right = 0.95)\n",
    "\n",
    "figcol = ax[0].contourf(ds_coha[0].time.values,np.arange(20,31*4,4),coha_30d,cmap=\"turbo\",levels=np.arange(0,0.9,0.1),extend=\"both\")\n",
    "ax[1].contourf(ds_coha[0].time.values,np.arange(20,31*4,4),cohc_30d,cmap=\"turbo\",levels=np.arange(0,0.9,0.1),extend=\"both\")\n",
    "\n",
    "ax[0].contour(ds_coha[0].time.values,np.arange(20,31*4,4),coha_30d,levels=[0.5],colors='white')\n",
    "ax[1].contour(ds_coha[0].time.values,np.arange(20,31*4,4),cohc_30d,levels=[0.5],colors='white')\n",
    "\n",
    "\n",
    "phaa_30dn = phaa_30d.where(coha_30d > 0.3, np.nan)\n",
    "angle = 0.5 * np.pi - phaa_30dn\n",
    "u, v = np.cos(angle), np.sin(angle)\n",
    "ax[0].quiver(ds_coha[0].time[::60].values,np.arange(20,31*4,12), u[::3, ::60], v[::3, ::60], angles='uv', pivot='tail', linewidth=0.051, scale=35, width=0.002,headwidth=10, headlength=4, headaxislength=1,   minshaft=0.05, minlength=2.5)\n",
    "             \n",
    "\n",
    "phac_30dn = phac_30d.where(cohc_30d > 0.3, np.nan)\n",
    "angle = 0.5 * np.pi - phac_30dn\n",
    "u, v = np.cos(angle), np.sin(angle)\n",
    "ax[1].quiver(ds_coha[0].time[::60].values,np.arange(20,31*4,12), u[::3, ::60], v[::3, ::60], angles='uv', pivot='tail', linewidth=0.051, scale=35, width=0.002,headwidth=10, headlength=4, headaxislength=1,   minshaft=0.05, minlength=2.5)\n",
    "\n",
    "\n",
    "\n",
    "ax[0].set_ylabel(\"cross shore\",fontsize=14)\n",
    "ax[1].set_ylabel(\"along shore\",fontsize=14)\n",
    "\n",
    "\n",
    "ax[0].set_ylim(ymin=0,ymax=120)\n",
    "ax[0].invert_yaxis()\n",
    "fig.suptitle(\"Wavelet coherence at 362 days (lag 30)\")\n",
    "cax = fig.add_axes([0.2, 0.06, 0.7,0.0125])\n",
    "cbar = fig.colorbar(figcol, cax=cax, orientation=\"horizontal\",)\n",
    "\n",
    "plt.savefig(path,dpi=300)\n",
    "#plt.savefig(\"/media/scilab/disk_ranjan/works/backscatter_wc/figures/wavelet_intra_annual_band_128days.png\",dpi=300)\n"
   ]
  },
  {
   "cell_type": "code",
   "execution_count": null,
   "id": "50e04f93-fc8c-4bfc-8a93-fbe55ded9597",
   "metadata": {},
   "outputs": [],
   "source": []
  }
 ],
 "metadata": {
  "kernelspec": {
   "display_name": "Python 3 (ipykernel)",
   "language": "python",
   "name": "python3"
  },
  "language_info": {
   "codemirror_mode": {
    "name": "ipython",
    "version": 3
   },
   "file_extension": ".py",
   "mimetype": "text/x-python",
   "name": "python",
   "nbconvert_exporter": "python",
   "pygments_lexer": "ipython3",
   "version": "3.12.3"
  }
 },
 "nbformat": 4,
 "nbformat_minor": 5
}
